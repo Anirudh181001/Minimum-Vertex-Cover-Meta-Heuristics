{
 "cells": [
  {
   "cell_type": "code",
   "execution_count": 37,
   "metadata": {},
   "outputs": [],
   "source": [
    "import pandas as pd\n",
    "import numpy as np\n",
    "import random\n",
    "import math\n",
    "import gc\n",
    "import matplotlib.pylab as plt\n",
    "import networkx as nx\n",
    "from copy import deepcopy"
   ]
  },
  {
   "cell_type": "markdown",
   "metadata": {},
   "source": [
    "# Graph Initialization"
   ]
  },
  {
   "cell_type": "code",
   "execution_count": 38,
   "metadata": {},
   "outputs": [
    {
     "data": {
      "text/plain": [
       "array([[0, 0, 0, ..., 0, 0, 0],\n",
       "       [0, 0, 0, ..., 0, 0, 0],\n",
       "       [0, 0, 0, ..., 0, 0, 0],\n",
       "       ...,\n",
       "       [0, 0, 0, ..., 0, 0, 0],\n",
       "       [0, 0, 0, ..., 0, 0, 0],\n",
       "       [0, 0, 0, ..., 0, 0, 0]])"
      ]
     },
     "execution_count": 38,
     "metadata": {},
     "output_type": "execute_result"
    }
   ],
   "source": [
    "random.seed(1)\n",
    "nodes = 100\n",
    "adjacency_matrix = np.zeros((nodes,nodes),dtype = np.int)\n",
    "\n",
    "edge_probability = .0085\n",
    "\n",
    "edges = []\n",
    "edges_cnt = 0\n",
    "for i in range(nodes):\n",
    "    for j in range(i):\n",
    "        prob = random.random()\n",
    "        if prob < edge_probability:\n",
    "            adjacency_matrix[i,j] = 1\n",
    "            edges.append((i,j))\n",
    "            edges_cnt += 1\n",
    "            \n",
    "adjacency_matrix"
   ]
  },
  {
   "cell_type": "code",
   "execution_count": 39,
   "metadata": {},
   "outputs": [],
   "source": [
    "G=nx.Graph()\n",
    "G.add_nodes_from(list(range(0,nodes)))\n",
    "G.add_edges_from(edges)"
   ]
  },
  {
   "cell_type": "code",
   "execution_count": 40,
   "metadata": {},
   "outputs": [
    {
     "data": {
      "image/png": "[encoded data removed]",
      "text/plain": [
       "<Figure size 864x432 with 1 Axes>"
      ]
     },
     "metadata": {},
     "output_type": "display_data"
    }
   ],
   "source": [
    "plt.figure(figsize=(12,6))\n",
    "nx.draw(G,node_color='r', node_size=18, alpha=0.8)\n",
    "plt.show() # display"
   ]
  },
  {
   "cell_type": "markdown",
   "metadata": {},
   "source": [
    "# Greedy Algorithm"
   ]
  },
  {
   "cell_type": "code",
   "execution_count": 41,
   "metadata": {},
   "outputs": [],
   "source": [
    "#Vertex Cover Greedy Algorithm\n",
    "visited = np.zeros(nodes)\n",
    "greedy_vertex_dict = {}\n",
    "greedy_edges = deepcopy(edges)\n",
    "\n",
    "for vertex in range(nodes):\n",
    "    greedy_vertex_dict[vertex] = sum(adjacency_matrix[vertex])\n",
    "\n",
    "greedy_vertex_dict_ordered = dict(sorted(greedy_vertex_dict.items(), key=lambda item: item[1], reverse=True))\n",
    "\n",
    "greedy_count = 0\n",
    "vcount = 0\n",
    "for vertex in greedy_vertex_dict_ordered:\n",
    "    to_remove = set()\n",
    "    for edge in greedy_edges:\n",
    "        if vertex in edge:\n",
    "            to_remove.add(edge)\n",
    "    for edge in to_remove:\n",
    "        greedy_edges.remove(edge)\n",
    "    greedy_count += 1\n",
    "    if len(greedy_edges) == 0: \n",
    "        break"
   ]
  },
  {
   "cell_type": "code",
   "execution_count": 42,
   "metadata": {},
   "outputs": [
    {
     "name": "stdout",
     "output_type": "stream",
     "text": [
      "Vertex cover consists of 34 nodes\n"
     ]
    }
   ],
   "source": [
    "print(\"Vertex cover consists of {} nodes\".format(greedy_count))"
   ]
  },
  {
   "cell_type": "code",
   "execution_count": 43,
   "metadata": {},
   "outputs": [
    {
     "data": {
      "text/plain": [
       "34"
      ]
     },
     "execution_count": 43,
     "metadata": {},
     "output_type": "execute_result"
    }
   ],
   "source": [
    "approximation_algo_result = greedy_count\n",
    "approximation_algo_result"
   ]
  },
  {
   "cell_type": "markdown",
   "metadata": {},
   "source": [
    "# Genetic Algorithm"
   ]
  },
  {
   "cell_type": "code",
   "execution_count": 44,
   "metadata": {},
   "outputs": [
    {
     "name": "stdout",
     "output_type": "stream",
     "text": [
      "[array([0, 0, 0, 0, 0, 0, 0, 0, 0, 0, 0, 0, 0, 0, 0, 0, 0, 0, 0, 0, 0, 0,\n",
      "       0, 0, 0, 0, 0, 0, 0, 0, 0, 0, 0, 0, 0, 0, 0, 1, 0, 0, 0, 0, 0, 0,\n",
      "       0, 0, 0, 0, 0, 0, 0, 0, 0, 0, 0, 0, 0, 0, 0, 0, 0, 0, 0, 0, 0, 0,\n",
      "       0, 0, 0, 0, 0, 0, 0, 0, 0, 0, 0, 0, 1, 0, 0, 0, 0, 0, 0, 0, 1, 0,\n",
      "       0, 0, 0, 0, 0, 0, 0, 0, 0, 0, 0, 0]), array([0, 0, 0, 0, 0, 0, 0, 0, 0, 0, 0, 0, 0, 0, 0, 0, 0, 0, 0, 0, 0, 0,\n",
      "       0, 0, 0, 0, 0, 0, 0, 0, 0, 0, 0, 0, 0, 0, 0, 0, 0, 0, 0, 0, 0, 0,\n",
      "       0, 0, 0, 0, 0, 0, 0, 0, 0, 0, 1, 0, 0, 1, 0, 0, 0, 0, 0, 0, 0, 0,\n",
      "       0, 0, 0, 0, 0, 0, 0, 0, 1, 0, 0, 0, 0, 0, 0, 0, 0, 0, 0, 0, 0, 0,\n",
      "       0, 0, 0, 0, 0, 0, 0, 0, 0, 0, 0, 0]), array([0, 0, 0, 0, 0, 0, 0, 0, 0, 0, 0, 0, 0, 0, 0, 0, 0, 0, 0, 0, 0, 0,\n",
      "       0, 0, 0, 0, 0, 0, 0, 0, 0, 0, 0, 0, 0, 0, 0, 0, 1, 0, 0, 0, 0, 0,\n",
      "       0, 0, 0, 1, 0, 0, 0, 0, 0, 0, 0, 0, 0, 0, 0, 0, 0, 0, 0, 0, 0, 0,\n",
      "       0, 0, 0, 0, 0, 0, 0, 0, 0, 0, 0, 0, 0, 0, 0, 0, 0, 0, 0, 0, 1, 0,\n",
      "       0, 0, 0, 0, 0, 0, 0, 0, 0, 0, 0, 0]), array([0, 0, 0, 0, 0, 0, 0, 0, 0, 0, 0, 0, 0, 0, 0, 0, 0, 0, 0, 0, 0, 0,\n",
      "       0, 0, 0, 0, 0, 0, 0, 0, 0, 0, 0, 1, 0, 0, 0, 0, 0, 0, 1, 0, 0, 0,\n",
      "       0, 0, 0, 0, 0, 0, 0, 0, 0, 0, 0, 0, 0, 0, 0, 0, 0, 0, 0, 0, 0, 0,\n",
      "       0, 0, 0, 0, 0, 0, 0, 0, 0, 0, 0, 0, 0, 0, 0, 0, 0, 0, 0, 0, 0, 0,\n",
      "       0, 0, 0, 0, 0, 0, 1, 0, 0, 0, 0, 0]), array([0, 0, 0, 0, 0, 0, 0, 0, 0, 0, 0, 0, 0, 0, 0, 0, 0, 0, 0, 0, 0, 0,\n",
      "       0, 0, 0, 0, 0, 0, 0, 1, 0, 0, 0, 0, 0, 0, 0, 0, 0, 0, 0, 0, 0, 0,\n",
      "       0, 0, 0, 0, 0, 0, 1, 0, 0, 0, 0, 0, 0, 0, 1, 0, 0, 0, 0, 0, 0, 0,\n",
      "       0, 0, 0, 0, 0, 0, 0, 0, 0, 0, 0, 0, 0, 0, 0, 0, 0, 0, 0, 0, 0, 0,\n",
      "       0, 0, 0, 0, 0, 0, 0, 0, 0, 0, 0, 0]), array([0, 0, 0, 0, 1, 0, 0, 0, 0, 0, 0, 0, 0, 0, 0, 0, 0, 0, 0, 0, 0, 0,\n",
      "       0, 0, 0, 0, 0, 0, 0, 0, 0, 0, 0, 0, 0, 0, 0, 0, 0, 0, 0, 0, 1, 0,\n",
      "       0, 0, 0, 0, 0, 0, 0, 0, 0, 0, 0, 0, 0, 0, 0, 0, 0, 0, 0, 0, 0, 0,\n",
      "       0, 0, 0, 0, 0, 0, 0, 0, 0, 0, 0, 0, 0, 0, 0, 0, 0, 0, 0, 0, 0, 0,\n",
      "       0, 0, 0, 0, 0, 0, 0, 1, 0, 0, 0, 0]), array([0, 0, 0, 0, 0, 0, 0, 0, 0, 0, 0, 0, 0, 0, 0, 0, 0, 0, 0, 0, 0, 0,\n",
      "       0, 0, 0, 0, 1, 0, 0, 0, 0, 0, 0, 0, 0, 0, 0, 0, 0, 0, 0, 0, 0, 0,\n",
      "       0, 0, 0, 0, 0, 0, 0, 0, 0, 0, 0, 0, 0, 0, 0, 0, 0, 0, 0, 0, 0, 0,\n",
      "       0, 0, 0, 0, 0, 0, 0, 0, 1, 0, 0, 0, 0, 0, 0, 0, 0, 0, 0, 0, 0, 0,\n",
      "       0, 0, 0, 0, 0, 0, 0, 0, 0, 0, 0, 1]), array([0, 0, 0, 0, 0, 0, 0, 0, 0, 0, 0, 0, 1, 0, 0, 0, 0, 0, 0, 0, 0, 0,\n",
      "       0, 0, 0, 0, 0, 0, 0, 0, 0, 0, 0, 0, 0, 0, 0, 0, 0, 0, 0, 0, 0, 0,\n",
      "       0, 0, 0, 0, 0, 0, 0, 0, 0, 0, 0, 0, 0, 0, 0, 0, 0, 0, 0, 0, 0, 0,\n",
      "       0, 0, 0, 0, 0, 0, 0, 0, 0, 0, 0, 0, 0, 0, 0, 0, 0, 0, 0, 0, 0, 1,\n",
      "       0, 0, 0, 0, 0, 0, 0, 0, 0, 0, 0, 1]), array([0, 0, 0, 0, 0, 0, 0, 0, 0, 0, 0, 0, 0, 0, 0, 0, 0, 1, 0, 0, 0, 0,\n",
      "       0, 0, 0, 0, 0, 0, 0, 0, 0, 0, 0, 0, 0, 0, 0, 0, 0, 0, 0, 0, 0, 0,\n",
      "       0, 0, 0, 0, 0, 0, 0, 0, 0, 0, 0, 0, 0, 0, 0, 0, 0, 0, 0, 0, 0, 0,\n",
      "       0, 0, 0, 0, 0, 0, 0, 0, 0, 0, 0, 0, 0, 0, 1, 0, 0, 0, 1, 0, 0, 0,\n",
      "       0, 0, 0, 0, 0, 0, 0, 0, 0, 0, 0, 0]), array([0, 0, 0, 0, 0, 0, 0, 0, 0, 0, 0, 0, 0, 0, 0, 0, 0, 0, 1, 0, 0, 0,\n",
      "       0, 0, 0, 0, 0, 0, 0, 0, 0, 1, 0, 0, 0, 0, 0, 0, 0, 0, 0, 0, 0, 0,\n",
      "       0, 1, 0, 0, 0, 0, 0, 0, 0, 0, 0, 0, 0, 0, 0, 0, 0, 0, 0, 0, 0, 0,\n",
      "       0, 0, 0, 0, 0, 0, 0, 0, 0, 0, 0, 0, 0, 0, 0, 0, 0, 0, 0, 0, 0, 0,\n",
      "       0, 0, 0, 0, 0, 0, 0, 0, 0, 0, 0, 0])]\n"
     ]
    }
   ],
   "source": [
    "# Init\n",
    "n = nodes\n",
    "total_population = 15 #Maximum population allowed in environment\n",
    "population_init = 10\n",
    "max_iterations = 50\n",
    "\n",
    "cross_over_prob = 0.50\n",
    "mutation_prob = 0.05\n",
    "    \n",
    "def chromosomes_generation(n,k,population_init):\n",
    "    \"\"\"n: int -> total vertices,\n",
    "    k: int -> number of vertices in our solution vertex cover,\n",
    "    popoulation_init: int -> initial population\n",
    "    \n",
    "    Description: Randomly initialize population with k vertices as our vertex cover \n",
    "\n",
    "    Args:\n",
    "        n (int): total vertices\n",
    "        k (int): number of vertices in our solution vertex cover\n",
    "        population_init (int): initial_population\n",
    "\n",
    "    Returns:\n",
    "        List[List[int]]: vertex cover with k vertices\n",
    "    \"\"\"\n",
    "    vertex_cover = []\n",
    "    for i in range(population_init):\n",
    "        chromosome = np.zeros(n,dtype=int)\n",
    "        samples = random.sample(range(n),k=k)\n",
    "        \n",
    "        for j in range(k):\n",
    "            chromosome[samples[j]] = 1\n",
    "        vertex_cover.append(chromosome)\n",
    "    return vertex_cover\n",
    "\n",
    "print(chromosomes_generation(n,3,population_init))"
   ]
  },
  {
   "cell_type": "code",
   "execution_count": 45,
   "metadata": {},
   "outputs": [],
   "source": [
    "def cost(soln,edges):\n",
    "    \"\"\"\n",
    "    Description: We use this to measure fitness. Given our vertex cover, we measure how many edges are missed.\n",
    "\n",
    "    Args:\n",
    "        soln (List[int]): list of k vertices\n",
    "        edges (List[Tuple[int]]): list of edges\n",
    "\n",
    "    Returns:\n",
    "        int: number of missed edges\n",
    "    \"\"\"\n",
    "    count = 0\n",
    "    for e in edges:\n",
    "        (u,v) = e\n",
    "        if soln[u] == 0 and soln[v] == 0:\n",
    "            count+=1\n",
    "    return count"
   ]
  },
  {
   "cell_type": "code",
   "execution_count": 46,
   "metadata": {},
   "outputs": [],
   "source": [
    "def selection_fittest(vertex_cover,total_population,edges):\n",
    "    \"\"\"\n",
    "    Description: selection basis to pass solutions to next generation.\n",
    "    This function just selects top performing solutions and passes them on to the next generation\n",
    "\n",
    "    Args:\n",
    "        vertex_cover (List[int]): list of k vertices\n",
    "        total_population (int): total population\n",
    "        edges (List[Tuple[int]]): list of edges\n",
    "    \"\"\"\n",
    "    score = []\n",
    "    output_lst = []\n",
    "    len_vertex_cover = len(vertex_cover)\n",
    "    \n",
    "    for i in range(len_vertex_cover):\n",
    "        score.append(cost(vertex_cover[i],edges))\n",
    "    sorted_index = np.argsort(score)\n",
    "    \n",
    "    for i in range(len_vertex_cover):\n",
    "        output_lst.append(vertex_cover[sorted_index[i]])\n",
    "        if i+1 == total_population:\n",
    "            break\n",
    "        \n",
    "    vertex_cover = output_lst\n",
    "    return vertex_cover, score[sorted_index[0]]"
   ]
  },
  {
   "cell_type": "code",
   "execution_count": 47,
   "metadata": {},
   "outputs": [],
   "source": [
    "def cross_over_and_mutate(vertex_cover,n,k,mutation_prob,edges):\n",
    "    \"\"\"\n",
    "    Description: Mutation and crosssover step happens here\n",
    "    \"\"\"\n",
    "    new_vertex_cover = vertex_cover.copy()\n",
    "    len_vertex_cover = len(vertex_cover)\n",
    "    variations = 1\n",
    "    \n",
    "    # Crossover happens here\n",
    "    \n",
    "    for i in range(len_vertex_cover):\n",
    "        #First solution\n",
    "        parent_1 = vertex_cover[i].copy()\n",
    "        #Second solution \n",
    "        parent_2 = vertex_cover[int(random.uniform(0,len_vertex_cover))] \n",
    "        \n",
    "        parent_1_unique = []\n",
    "        parent_2_unique = []\n",
    "        \n",
    "        # Store the vertices of both solutions\n",
    "        for j in range(n):\n",
    "            if parent_1[j] ==1:\n",
    "                parent_1_unique.append(j)\n",
    "                \n",
    "            if parent_2[j] == 1:\n",
    "                parent_2_unique.append(j)\n",
    "                \n",
    "        # Find vertices from parent 1 which are in parent 2 and shuffle\n",
    "        parent_1_unique =np.setdiff1d(parent_1,parent_2)\n",
    "        random.shuffle(parent_1_unique)\n",
    "        \n",
    "        # Find vertices from parent 2 which are in parent 1 and shuffle\n",
    "        parent_2_unique =np.setdiff1d(parent_2,parent_1)\n",
    "        random.shuffle(parent_2_unique)\n",
    "        \n",
    "        # Swap half of the unique vertices from parent 2 into parent 1 -> New solution\n",
    "        swap = math.ceil(cross_over_prob * min(len(parent_1_unique),len(parent_2_unique)))\n",
    "        for j in range(swap):\n",
    "              parent_1[parent_2_unique[j]] = 1\n",
    "              parent_1[parent_2_unique[j]] = 0\n",
    "              \n",
    "        #Mutation happens here\n",
    "        \n",
    "        zeroes = []\n",
    "        ones = []\n",
    "        for j in range(n):\n",
    "            if parent_1[j] == 1:\n",
    "                ones.append(j)\n",
    "            else:\n",
    "                zeroes.append(j)\n",
    "                \n",
    "        random.shuffle(ones)\n",
    "        random.shuffle(zeroes)\n",
    "        \n",
    "        coin_toss = random.random()\n",
    "        if coin_toss <= 0.5:\n",
    "            swaps =  min(len(ones),len(zeroes))\n",
    "            \n",
    "            for j in range(swaps):\n",
    "                coin_toss_2 = random.random()\n",
    "                if coin_toss_2 < mutation_prob:\n",
    "                    parent_1[ones[j]] = 0\n",
    "                    parent_1[zeroes[j]] = 1\n",
    "                    #Swapping logic\n",
    "                    dummy = ones[j]\n",
    "                    ones[j] = zeroes[j]\n",
    "                    zeroes[j] = dummy\n",
    "        else:\n",
    "            mutate_lst = []\n",
    "            for e in edges:\n",
    "                (u,v) = e\n",
    "                if((parent_1[u] == 0) and (parent_1[v] == 0)):\n",
    "                    coin_toss2 = random.random()\n",
    "                    if(coin_toss2 < mutation_prob):\n",
    "                        coin_toss3 = random.random()\n",
    "                        if(coin_toss3 <= 0.5):\n",
    "                            if(u not in mutate_lst):\n",
    "                                mutate_lst.append(u)\n",
    "                        else:\n",
    "                            if(v not in mutate_lst):\n",
    "                                mutate_lst.append(v)\n",
    "            \n",
    "            random.shuffle(mutate_lst)\n",
    "            mutated_swaps = min(len(ones),len(mutate_lst))\n",
    "\n",
    "            for j in range(mutated_swaps):\n",
    "                parent_1[ones[j]] = 0\n",
    "                parent_1[mutate_lst[j]] = 1\n",
    "                #Swapping logic\n",
    "                dummy = ones[j]\n",
    "                ones[j] = mutate_lst[j]\n",
    "                mutate_lst[j] = dummy\n",
    "        \n",
    "        new_vertex_cover.append(parent_1)\n",
    "    return new_vertex_cover\n",
    "    "
   ]
  },
  {
   "cell_type": "code",
   "execution_count": 48,
   "metadata": {},
   "outputs": [],
   "source": [
    "def environment(n,k,mutation_prob,population_init,total_population,max_iterations,edges):\n",
    "    vertex_cover = chromosomes_generation(n,k,population_init)\n",
    "    for it in range(max_iterations):\n",
    "        vertex_cover = cross_over_and_mutate(vertex_cover,n,k,mutation_prob,edges)\n",
    "#         return\n",
    "        vertex_cover,cost_value = selection_fittest(vertex_cover,total_population,edges)\n",
    "        if (it%10)==9:\n",
    "            print(\"k = {}, Iteration = {}, Cost = {}\".format(k,it+1,cost_value))\n",
    "        if cost_value==0:\n",
    "            break\n",
    "    result = []\n",
    "    soln = vertex_cover[0]\n",
    "    for j in range(len(soln)):\n",
    "        if(soln[j] == 1):\n",
    "            result.append(j)\n",
    "    print(\"k = {}, Iteration = {}, Cost = {}\\nSoln = {}\".format(k,it,cost_value,result))\n",
    "    return cost_value,result"
   ]
  },
  {
   "cell_type": "code",
   "execution_count": 49,
   "metadata": {},
   "outputs": [],
   "source": [
    "# For garbage collection\n",
    "def free_memory():\n",
    "    gc.collect()"
   ]
  },
  {
   "cell_type": "code",
   "execution_count": 50,
   "metadata": {},
   "outputs": [],
   "source": [
    "def optimize_for_best_k(n,mutation_prob,population_init,total_population,max_iterations,edges,start,end):\n",
    "    \"\"\"\n",
    "    Description: Perform binary search with k and find out the minimum k to cover all vertices\n",
    "    \"\"\"\n",
    "    result_dict = {}\n",
    "    l = start\n",
    "    h = end\n",
    "    ans = 0\n",
    "    while(l<=h):\n",
    "        m = int((l+h)/2)\n",
    "        cost_value,result = environment(n,m,mutation_prob,population_init,total_population,max_iterations,edges)\n",
    "        # print(\"Cost is {} result is {}\".format(cost_value,result))\n",
    "        if(cost_value==0):\n",
    "            result_dict[m] = result\n",
    "            h = m-1\n",
    "        else:\n",
    "            l = m + 1\n",
    "    return result_dict\n"
   ]
  },
  {
   "cell_type": "code",
   "execution_count": 51,
   "metadata": {},
   "outputs": [
    {
     "name": "stdout",
     "output_type": "stream",
     "text": [
      "k = 58, Iteration = 6, Cost = 0\n",
      "Soln = [0, 3, 4, 8, 9, 10, 11, 12, 13, 14, 15, 17, 18, 19, 24, 25, 28, 29, 32, 34, 35, 36, 37, 38, 41, 42, 43, 44, 48, 49, 50, 56, 57, 58, 60, 61, 62, 63, 67, 69, 70, 72, 73, 75, 77, 79, 81, 83, 84, 86, 87, 88, 89, 90, 91, 95, 96, 98]\n",
      "k = 37, Iteration = 10, Cost = 7\n",
      "k = 37, Iteration = 20, Cost = 5\n",
      "k = 37, Iteration = 30, Cost = 2\n",
      "k = 37, Iteration = 37, Cost = 0\n",
      "Soln = [1, 3, 4, 5, 8, 9, 14, 23, 24, 29, 32, 36, 44, 48, 50, 52, 54, 57, 59, 60, 63, 65, 66, 69, 72, 73, 75, 80, 84, 85, 86, 89, 90, 96, 97, 98, 99]\n",
      "k = 26, Iteration = 10, Cost = 11\n",
      "k = 26, Iteration = 20, Cost = 8\n",
      "k = 26, Iteration = 30, Cost = 7\n",
      "k = 26, Iteration = 40, Cost = 5\n",
      "k = 26, Iteration = 50, Cost = 3\n",
      "k = 26, Iteration = 49, Cost = 3\n",
      "Soln = [7, 8, 9, 14, 25, 26, 30, 32, 33, 52, 54, 57, 59, 63, 64, 66, 72, 75, 80, 81, 84, 86, 88, 89, 95, 98]\n",
      "k = 31, Iteration = 10, Cost = 10\n",
      "k = 31, Iteration = 20, Cost = 4\n",
      "k = 31, Iteration = 30, Cost = 2\n",
      "k = 31, Iteration = 40, Cost = 2\n",
      "k = 31, Iteration = 47, Cost = 0\n",
      "Soln = [2, 3, 4, 8, 9, 10, 14, 15, 26, 30, 32, 44, 50, 51, 52, 54, 57, 58, 59, 63, 64, 69, 75, 80, 82, 84, 85, 92, 94, 95, 98]\n",
      "k = 28, Iteration = 10, Cost = 12\n",
      "k = 28, Iteration = 20, Cost = 8\n",
      "k = 28, Iteration = 30, Cost = 5\n",
      "k = 28, Iteration = 40, Cost = 4\n",
      "k = 28, Iteration = 50, Cost = 3\n",
      "k = 28, Iteration = 49, Cost = 3\n",
      "Soln = [3, 5, 9, 14, 19, 22, 26, 30, 32, 42, 44, 46, 48, 50, 51, 52, 54, 57, 63, 64, 75, 80, 84, 88, 89, 92, 95, 98]\n",
      "k = 29, Iteration = 10, Cost = 12\n",
      "k = 29, Iteration = 20, Cost = 7\n",
      "k = 29, Iteration = 30, Cost = 4\n",
      "k = 29, Iteration = 40, Cost = 3\n",
      "k = 29, Iteration = 50, Cost = 3\n",
      "k = 29, Iteration = 49, Cost = 3\n",
      "Soln = [0, 5, 8, 9, 15, 26, 30, 31, 32, 40, 43, 50, 51, 54, 57, 62, 63, 66, 69, 73, 75, 80, 84, 88, 89, 90, 92, 95, 98]\n",
      "k = 30, Iteration = 10, Cost = 7\n",
      "k = 30, Iteration = 20, Cost = 5\n",
      "k = 30, Iteration = 30, Cost = 3\n",
      "k = 30, Iteration = 40, Cost = 2\n",
      "k = 30, Iteration = 50, Cost = 1\n",
      "k = 30, Iteration = 49, Cost = 1\n",
      "Soln = [4, 5, 8, 9, 10, 14, 26, 29, 32, 43, 44, 46, 49, 50, 51, 54, 62, 63, 64, 70, 75, 76, 80, 81, 82, 84, 85, 89, 92, 98]\n",
      "Wall time: 4.67 s\n"
     ]
    }
   ],
   "source": [
    "free_memory()\n",
    "%time result = optimize_for_best_k(n,mutation_prob,population_init,total_population,max_iterations,edges,int(approximation_algo_result/2),n)"
   ]
  },
  {
   "cell_type": "code",
   "execution_count": 52,
   "metadata": {},
   "outputs": [
    {
     "data": {
      "text/plain": [
       "dict_keys([58, 37, 31])"
      ]
     },
     "execution_count": 52,
     "metadata": {},
     "output_type": "execute_result"
    }
   ],
   "source": [
    "result.keys()"
   ]
  },
  {
   "cell_type": "code",
   "execution_count": 53,
   "metadata": {},
   "outputs": [
    {
     "name": "stdout",
     "output_type": "stream",
     "text": [
      "31\n"
     ]
    }
   ],
   "source": [
    "min_key = 0\n",
    "min_len = 10000000000000000\n",
    "best_solution = []\n",
    "for key,value in result.items():\n",
    "    if len(value) < min_len:\n",
    "        min_key = key\n",
    "        min_len= len(value)\n",
    "        best_solution = result[key]\n",
    "print(min_len)"
   ]
  },
  {
   "cell_type": "code",
   "execution_count": 54,
   "metadata": {},
   "outputs": [
    {
     "data": {
      "image/png": "[encoded data removed]",
      "text/plain": [
       "<Figure size 432x288 with 1 Axes>"
      ]
     },
     "metadata": {},
     "output_type": "display_data"
    },
    {
     "name": "stdout",
     "output_type": "stream",
     "text": [
      "Genetic: 31\n"
     ]
    }
   ],
   "source": [
    "color_map = []\n",
    "for node in G:\n",
    "    if node in best_solution:\n",
    "        color_map.append('green')\n",
    "    else: \n",
    "        color_map.append('blue')      \n",
    "\n",
    "edge_colours = []\n",
    "for (u,v) in G.edges():\n",
    "    if u in best_solution or v in best_solution:\n",
    "        edge_colours.append(\"green\")\n",
    "    else:\n",
    "        edge_colours.append(\"red\")\n",
    "        \n",
    "nx.draw(G, node_color=color_map, edge_color=edge_colours, node_size=22, alpha=0.9)\n",
    "plt.show()\n",
    "\n",
    "print(f\"Genetic: {min_len}\")"
   ]
  }
 ],
 "metadata": {
  "interpreter": {
   "hash": "2db524e06e9f5f4ffedc911c917cb75e12dbc923643829bf417064a77eb14d37"
  },
  "kernelspec": {
   "display_name": "Python 3.8.2 64-bit",
   "language": "python",
   "name": "python3"
  },
  "language_info": {
   "codemirror_mode": {
    "name": "ipython",
    "version": 3
   },
   "file_extension": ".py",
   "mimetype": "text/x-python",
   "name": "python",
   "nbconvert_exporter": "python",
   "pygments_lexer": "ipython3",
   "version": "3.8.2"
  },
  "orig_nbformat": 4
 },
 "nbformat": 4,
 "nbformat_minor": 2
}
