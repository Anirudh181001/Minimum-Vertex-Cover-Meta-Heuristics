{
 "cells": [
  {
   "cell_type": "code",
   "execution_count": null,
   "metadata": {},
   "outputs": [],
   "source": [
    "import pandas as pd\n",
    "import numpy as np\n",
    "import random\n",
    "import math\n",
    "import gc\n",
    "import matplotlib.pylab as plt\n",
    "import networkx as nx"
   ]
  },
  {
   "cell_type": "code",
   "execution_count": null,
   "metadata": {},
   "outputs": [],
   "source": [
    "# Initialize adjacency matrix\n",
    "nodes = 25\n",
    "adjacency_matrix = np.zeros((nodes,nodes),dtype = np.int)\n",
    "\n",
    "edge_probability = .0085 if nodes > 100 else 0.09\n",
    "\n",
    "edges = []\n",
    "edges_cnt = 0\n",
    "for i in range(nodes):\n",
    "    for j in range(i):\n",
    "        prob = random.random()\n",
    "        if prob < edge_probability:\n",
    "            adjacency_matrix[i,j] = 1\n",
    "            edges.append((i,j))\n",
    "            edges_cnt += 1\n",
    "            \n",
    "adjacency_matrix"
   ]
  },
  {
   "cell_type": "code",
   "execution_count": null,
   "metadata": {},
   "outputs": [],
   "source": [
    "G=nx.Graph()\n",
    "G.add_nodes_from(list(range(0,nodes)))\n",
    "G.add_edges_from(edges)"
   ]
  },
  {
   "cell_type": "code",
   "execution_count": null,
   "metadata": {},
   "outputs": [],
   "source": [
    "plt.figure(figsize=(12,6))\n",
    "nx.draw(G,node_color='r', node_size=18, alpha=0.8)\n",
    "plt.show() # display"
   ]
  },
  {
   "cell_type": "code",
   "execution_count": 21,
   "metadata": {},
   "outputs": [],
   "source": [
    "# Initialize variables and constants\n",
    "num_ants = 10\n",
    "vertex_weights = {node:1 for node in range(nodes)}\n",
    "tau_o = random.random() \n",
    "vertex_phermones = {node:tau_o for node in range(nodes)}\n",
    "vertex_values = {node: vertex_phermones[node]*sum(adjacency_matrix[node]) for node in range(nodes)}\n",
    "solution_set = []\n",
    "q_o = 0.5\n",
    "alpha = 0.1\n",
    "psi = 0.3"
   ]
  },
  {
   "cell_type": "code",
   "execution_count": 15,
   "metadata": {},
   "outputs": [],
   "source": [
    "# Helpers\n",
    "def get_adjacent_vertices(adj_mat,vertex):\n",
    "    vertices = []\n",
    "    for vert in adj_mat[vertex]:\n",
    "        if vert > 0:\n",
    "            vertices.append(vert)\n",
    "            \n",
    "    return vertices\n",
    "\n",
    "def get_arg_max_phermone(vertex_values):\n",
    "    arg_max = []\n",
    "    max_val = -1\n",
    "    for vertex, value in vertex_values.items():\n",
    "        if value > max_val:\n",
    "            max_val = value\n",
    "            arg_max = [vertex]\n",
    "            \n",
    "        elif value == max_val:\n",
    "            arg_max.append(vertex)\n",
    "            \n",
    "    return arg_max\n",
    "            \n",
    "    "
   ]
  },
  {
   "cell_type": "code",
   "execution_count": null,
   "metadata": {},
   "outputs": [],
   "source": [
    "# Psi function\n",
    "def get_psi_k(vertex_i, vertex_j):\n",
    "    return adjacency_matrix[vertex_i][vertex_j]\n",
    "\n",
    "# Eta function\n",
    "def get_eta_k(vertex):\n",
    "    total_edges = sum([get_psi_k(vertex_i,vertex_j) for vertex_i in range(nodes) for vertex_j in range(nodes)])\n",
    "    weight_vertex = vertex_weights[vertex]\n",
    "    return total_edges/weight_vertex\n",
    "\n",
    "# Probability\n",
    "def get_transition_probabilty(vertex, q_o=q_o):\n",
    "    q = random.random()\n",
    "    \n",
    "    if q <=q_o:\n",
    "        tau_j = get_tau_j(vertex)\n",
    "        eta_j_k = (get_eta_k(vertex))**alpha\n",
    "        available_vertices = get_adjacent_vertices(adjacency_matrix,vertex)\n",
    "        denominator = sum([tau_j*get_eta_k(vert) for vert in available_vertices])\n",
    "        return tau_j*eta_j_k / denominator\n",
    "    \n",
    "    arg_max = get_arg_max_phermone(vertex_values)\n",
    "    \n",
    "    if vertex in arg_max:\n",
    "        return 1\n",
    "    return 0\n",
    "        \n",
    "\n",
    "# Local update rule\n",
    "def get_local_tau_j(vertex_j):\n",
    "    return (1-psi)*vertex_phermones[vertex_j] + psi*tau_o\n",
    "    \n",
    "# Global update rule \n",
    "def get_delta_tau_j():\n",
    "    return 1/(sum(vertex_weights(vertex_j) for vertex_j in solution_set))\n",
    "    \n",
    "def get_tau_j(vertex_i):\n",
    "    delta_tau= get_delta_tau_j()\n",
    "    tau_j=(1-get_transition_probabilty(vertex_i))*tau_j+delta_tau\n",
    "    return tau_j"
   ]
  },
  {
   "cell_type": "code",
   "execution_count": null,
   "metadata": {},
   "outputs": [],
   "source": []
  }
 ],
 "metadata": {
  "interpreter": {
   "hash": "31c636f1f4294c903f9992ed5ca520128c762c058a15df1615cd79f3b1182918"
  },
  "kernelspec": {
   "display_name": "Python 3.7.3",
   "language": "python",
   "name": "python3"
  },
  "language_info": {
   "codemirror_mode": {
    "name": "ipython",
    "version": 3
   },
   "file_extension": ".py",
   "mimetype": "text/x-python",
   "name": "python",
   "nbconvert_exporter": "python",
   "pygments_lexer": "ipython3",
   "version": "3.7.3"
  },
  "orig_nbformat": 4
 },
 "nbformat": 4,
 "nbformat_minor": 2
}
